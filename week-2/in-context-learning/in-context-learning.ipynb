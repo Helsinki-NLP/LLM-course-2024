{
 "cells": [
  {
   "cell_type": "markdown",
   "metadata": {},
   "source": [
    "# In-Context Learning\n"
   ]
  },
  {
   "cell_type": "code",
   "execution_count": 1,
   "metadata": {},
   "outputs": [],
   "source": [
    "import os\n",
    "import requests\n",
    "from bs4 import BeautifulSoup\n",
    "import google.generativeai as genai\n",
    "from urllib.request import urlopen, urlretrieve\n",
    "from IPython.display import Markdown, display\n",
    "from pypdf import PdfReader\n",
    "from datetime import date\n",
    "from tqdm import tqdm"
   ]
  },
  {
   "cell_type": "code",
   "execution_count": 2,
   "metadata": {},
   "outputs": [],
   "source": [
    "API_KEY = os.environ.get(\"GEMINI_API_KEY\")\n",
    "genai.configure(api_key=API_KEY)"
   ]
  },
  {
   "cell_type": "code",
   "execution_count": 3,
   "metadata": {},
   "outputs": [],
   "source": [
    "BASE_URL = \"https://huggingface.co/papers\"\n",
    "page = requests.get(BASE_URL)\n",
    "soup = BeautifulSoup(page.content, \"html.parser\")\n",
    "h3s = soup.find_all(\"h3\")\n",
    "\n",
    "papers = []\n",
    "\n",
    "for h3 in h3s:\n",
    "    a = h3.find(\"a\")\n",
    "    title = a.text\n",
    "    link = a[\"href\"].replace('/papers', '')\n",
    "\n",
    "    papers.append({\"title\": title, \"url\": f\"https://arxiv.org/pdf{link}\"})"
   ]
  },
  {
   "cell_type": "code",
   "execution_count": 4,
   "metadata": {},
   "outputs": [],
   "source": [
    "def extract_paper(url):\n",
    "    html = urlopen(url).read()\n",
    "    soup = BeautifulSoup(html, features=\"html.parser\")\n",
    "\n",
    "    # kill all script and style elements\n",
    "    for script in soup([\"script\", \"style\"]):\n",
    "        script.extract()    # rip it out\n",
    "\n",
    "    # get text\n",
    "    text = soup.get_text()\n",
    "\n",
    "    # break into lines and remove leading and trailing space on each\n",
    "    lines = (line.strip() for line in text.splitlines())\n",
    "    # break multi-headlines into a line each\n",
    "    chunks = (phrase.strip() for line in lines for phrase in line.split(\"  \"))\n",
    "    # drop blank lines\n",
    "    text = '\\n'.join(chunk for chunk in chunks if chunk)\n",
    "\n",
    "    return text\n",
    "\n",
    "\n",
    "def extract_pdf(url):\n",
    "    pdf = urlretrieve(url, \"pdf_file.pdf\")\n",
    "    reader = PdfReader(\"pdf_file.pdf\")\n",
    "    text = \"\"\n",
    "    for page in reader.pages:\n",
    "        text += page.extract_text() + \"\\n\"\n",
    "    return text\n",
    "\n",
    "\n",
    "def printmd(string):\n",
    "    display(Markdown(string))"
   ]
  },
  {
   "cell_type": "code",
   "execution_count": 5,
   "metadata": {},
   "outputs": [],
   "source": [
    "LLM = \"gemini-1.5-flash\"\n",
    "model = genai.GenerativeModel(LLM)"
   ]
  },
  {
   "cell_type": "code",
   "execution_count": 6,
   "metadata": {},
   "outputs": [
    {
     "name": "stderr",
     "output_type": "stream",
     "text": [
      "100%|██████████| 18/18 [01:08<00:00,  3.80s/it]\n"
     ]
    }
   ],
   "source": [
    "for paper in tqdm(papers):\n",
    "    try:\n",
    "        paper[\"summary\"] = model.generate_content(\"Summarize this research article into one paragraph without formatting highlighting its strengths and weaknesses. \" + extract_pdf(paper[\"url\"])).text\n",
    "    except:\n",
    "        print(\"Generation failed\")\n",
    "        paper[\"summary\"] = \"Paper not available\""
   ]
  },
  {
   "cell_type": "code",
   "execution_count": 7,
   "metadata": {},
   "outputs": [],
   "source": [
    "page = f\"<html> <head> <h1>Daily Dose of AI Research</h1> <h4>{date.today()}</h4> <p><i>Summaries generated with: {LLM}</i>\"\n",
    "with open(\"papers.html\", \"w\") as f:\n",
    "    f.write(page)\n",
    "for paper in papers:\n",
    "    page = f'<h2><a href=\"{paper[\"url\"]}\">{paper[\"title\"]}</a></h2> <p>{paper[\"summary\"]}</p>'\n",
    "    with open(\"papers.html\", \"a\") as f:\n",
    "        f.write(page)\n",
    "end = \"</head>  </html>\"\n",
    "with open(\"papers.html\", \"a\") as f:\n",
    "    f.write(end)"
   ]
  },
  {
   "cell_type": "code",
   "execution_count": 8,
   "metadata": {},
   "outputs": [
    {
     "data": {
      "text/markdown": [
       "**[OS-ATLAS: A Foundation Action Model for Generalist GUI Agents](https://arxiv.org/pdf/2410.23218)**<br>This research introduces OS-ATLAS, an open-source foundational action model for generalist GUI agents. OS-ATLAS addresses the shortcomings of previous open-source models by excelling in GUI grounding and out-of-distribution (OOD) scenarios.  It achieves this through innovations in both data and modeling.  The key strength of OS-ATLAS is its extensive open-source multi-platform GUI grounding corpus, containing over 13 million GUI elements across Windows, macOS, Linux, Android, and the web. This large dataset, combined with a unified action space to address action naming conflicts, allows OS-ATLAS to understand GUI screenshots and generalize to unseen interfaces. While OS-ATLAS shows significant performance improvements over previous models, a limitation lies in its reliance on GPT-4o for certain tasks, highlighting the need for further research on fully open-source alternatives. The paper also emphasizes the importance of scaling and improving data collection methods to further enhance performance. \n",
       "<br><br>"
      ],
      "text/plain": [
       "<IPython.core.display.Markdown object>"
      ]
     },
     "metadata": {},
     "output_type": "display_data"
    },
    {
     "data": {
      "text/markdown": [
       "**[Constant Acceleration Flow](https://arxiv.org/pdf/2411.00322)**<br>This research paper introduces Constant Acceleration Flow (CAF), a novel ordinary differential equation (ODE) framework for generative modeling. CAF improves upon existing rectified flow methods by incorporating acceleration as a learnable variable, enabling more precise ODE flow estimation and faster generation. To mitigate the flow crossing problem, which hinders the learning of straight ODE trajectories, the authors propose two techniques: initial velocity conditioning and a reflow procedure for the initial velocity. The authors demonstrate CAF’s effectiveness through extensive experiments on synthetic and real-world image datasets, achieving state-of-the-art Fréchet Inception Distance (FID) scores on CIFAR-10 and ImageNet 64x64. While CAF demonstrates impressive performance in terms of image quality and speed, it faces limitations such as increased computational burden due to additional function evaluations and the requirement of supplementary data for deterministic coupling. Nonetheless, the paper highlights CAF’s potential for positive societal impact across various domains, while acknowledging the crucial need for responsible development and deployment to mitigate potential risks associated with generative models. \n",
       "<br><br>"
      ],
      "text/plain": [
       "<IPython.core.display.Markdown object>"
      ]
     },
     "metadata": {},
     "output_type": "display_data"
    },
    {
     "data": {
      "text/markdown": [
       "**[TOMATO: Assessing Visual Temporal Reasoning Capabilities in Multimodal Foundation Models](https://arxiv.org/pdf/2410.23266)**<br>## Analysis of Common Failure Cases in TOMATO\n",
       "\n",
       "This document provides a detailed analysis of common failure cases across various reasoning types in TOMATO, highlighting the challenges faced by both humans and large language models (LLMs) in understanding and interpreting visual temporal information. \n",
       "\n",
       "**Key Observations:**\n",
       "\n",
       "* **Human Limitations:** Human annotators often struggle with subtle visual cues, particularly in static frames. This is especially evident in tasks like rotation, direction, and velocity & frequency, where motion is not explicitly captured but must be inferred.\n",
       "* **LLM Challenges:** LLMs, despite their advancements in language and visual understanding, are still susceptible to misinterpretations and biases in handling visual temporal reasoning. Their performance is heavily influenced by factors like frame quality, object clarity, and the complexity of the motion.\n",
       "* **Ambiguity and Context:** Many failure cases arise from ambiguity in the provided frames or a lack of sufficient context. This can lead to multiple plausible interpretations, making it difficult for both humans and LLMs to choose the most accurate answer. \n",
       "\n",
       "**Specific Failure Cases:**\n",
       "\n",
       "**Rotation:**\n",
       "\n",
       "* **Incorrect Direction:** LLMs often misjudge the direction of rotation due to the limited visual information in the frames. This is particularly challenging when the rotation is not fully visible or when the motion is subtle.\n",
       "* **Assuming Constant Speed:** LLMs may incorrectly assume constant speed, overlooking subtle changes in rotational speed that are not easily discernible in static frames.\n",
       "\n",
       "**Direction:**\n",
       "\n",
       "* **Difficulty with Complex Motion:** LLMs struggle with understanding and interpreting complex motion patterns, especially when the direction changes or when the movement is not linear. \n",
       "* **Over-reliance on Visual Cues:** LLMs may over-rely on visual cues and miss subtle hints about directional changes that are not explicitly shown in the frames. \n",
       "\n",
       "**Velocity & Frequency:**\n",
       "\n",
       "* **Inability to Gauge Speed:** LLMs are often unable to accurately gauge the speed of objects based solely on visual information, especially when the motion is subtle or when the frame rate is low.\n",
       "* **Misinterpreting Acceleration/Deceleration:** LLMs may struggle to differentiate between acceleration, deceleration, and constant speed, particularly in scenes with gradual changes in movement.\n",
       "\n",
       "**Shape & Trend:**\n",
       "\n",
       "* **Inferring Shape from Trajectory:** LLMs have difficulty inferring the exact shape of a trajectory based on limited visual information, often making incorrect guesses about the geometry of the path.\n",
       "\n",
       "**Visual Cues:**\n",
       "\n",
       "* **Difficulty with Temporal Ordering:** LLMs struggle with understanding the temporal ordering of events based on visual cues alone. They may incorrectly assume simultaneous actions or fail to identify the exact starting point of an action.\n",
       "\n",
       "**Action Count:**\n",
       "\n",
       "* **Counting Discrepancies:** LLMs often have difficulty counting actions accurately, especially when the frames do not provide a clear view of the full action or when the motion is continuous.\n",
       "\n",
       "**Recommendations:**\n",
       "\n",
       "* **Improve Frame Quality and Resolution:** Provide higher quality and higher resolution frames to minimize ambiguity and improve visual clarity for both humans and LLMs.\n",
       "* **Include More Contextual Information:** Provide additional information about the scene, objects, and relevant events to aid in understanding and interpreting visual temporal reasoning.\n",
       "* **Develop Novel Evaluation Metrics:** Explore novel evaluation metrics that consider the complexity of visual temporal reasoning and the potential for multiple plausible interpretations.\n",
       "* **Fine-tune LLMs with Temporal Data:** Train LLMs on datasets with specific visual temporal reasoning tasks to enhance their ability to understand and interpret motion patterns.\n",
       "\n",
       "**Conclusion:**\n",
       "\n",
       "The common failure cases in TOMATO highlight the ongoing challenges in developing robust visual temporal reasoning systems. While significant progress has been made in understanding visual and language information, accurately interpreting complex motion patterns remains a significant challenge. By addressing the limitations discussed in this analysis, researchers can continue to advance the field of visual temporal reasoning and develop more comprehensive and reliable systems for understanding and interpreting visual information across time. \n",
       "<br><br>"
      ],
      "text/plain": [
       "<IPython.core.display.Markdown object>"
      ]
     },
     "metadata": {},
     "output_type": "display_data"
    },
    {
     "data": {
      "text/markdown": [
       "**[Personalization of Large Language Models: A Survey](https://arxiv.org/pdf/2411.00027)**<br>This research article provides a comprehensive survey of personalization in large language models (LLMs). It offers a unifying taxonomy for personalized LLM usage, categorizing efforts into direct personalized text generation and downstream task personalization. The paper formalizes key concepts of personalization, defines different levels of granularity (user-level, persona-level, and global preference alignment), and provides a detailed taxonomy of techniques, including retrieval-augmented generation, prompting, representation learning, and RLHF. It also reviews evaluation methodologies, distinguishing between intrinsic and extrinsic evaluation, and categorizes datasets based on the presence or absence of user-specific ground-truth text. The article highlights the potential of personalized LLMs in various domains, including AI assistants in education and healthcare, finance, legal, and coding environments, as well as recommendation systems and search engines. However, it also acknowledges crucial challenges such as the need for improved benchmarks and metrics, tackling the cold-start problem, addressing stereotypes and biases, ensuring privacy, and expanding personalization to multimodal systems. Despite these challenges, the field of personalized LLMs is rapidly evolving, with the potential to significantly impact human-AI interaction across diverse domains. \n",
       "<br><br>"
      ],
      "text/plain": [
       "<IPython.core.display.Markdown object>"
      ]
     },
     "metadata": {},
     "output_type": "display_data"
    },
    {
     "data": {
      "text/markdown": [
       "**[Randomized Autoregressive Visual Generation](https://arxiv.org/pdf/2411.00776)**<br>This research paper presents Randomized AutoRegressive (RAR) modeling, a new approach for visual generation that achieves state-of-the-art performance while maintaining compatibility with language modeling frameworks.  RAR introduces randomness annealing, where the input sequence is randomly permuted during training with a probability that decays over time, enabling the model to learn bidirectional contexts. This strategy significantly improves generation quality without compromising the autoregressive structure. RAR outperforms prior autoregressive image generators and even surpasses leading diffusion-based and masked transformer-based methods on the ImageNet-256 benchmark. However, RAR's strength in capturing \"global context\" during generation remains a challenge, as some tokens are generated before others, lacking complete global context. Additionally, the randomness annealing strategy might introduce sub-optimal behavior, potentially making the model focus on learning permutation orders rather than generation quality. Despite these weaknesses, RAR represents a promising advancement in autoregressive visual generation, opening possibilities for further research and development. \n",
       "<br><br>"
      ],
      "text/plain": [
       "<IPython.core.display.Markdown object>"
      ]
     },
     "metadata": {},
     "output_type": "display_data"
    },
    {
     "data": {
      "text/markdown": [
       "**[Adapting While Learning: Grounding LLMs for Scientific Problems with Intelligent Tool Usage Adaptation](https://arxiv.org/pdf/2411.00412)**<br>This research article proposes a novel two-component fine-tuning method for Large Language Models (LLMs) to enhance their ability to solve scientific problems of varying complexity. The first component, World Knowledge Distillation (WKD), utilizes supervised fine-tuning to equip the model with domain-specific knowledge by learning from accurate solutions generated using external tools. The second component, Tool Usage Adaptation (TUA), partitions problems into easy and hard categories based on the model's direct answering accuracy, prompting the model to use tools only for difficult questions. Experiments across various datasets demonstrate that this approach significantly improves answer accuracy and tool usage precision, enabling the model to surpass state-of-the-art models like GPT-4o and Claude-3.5.  However, the method requires domain-specific fine-tuning, limiting its scalability across diverse scientific fields. Additionally, the reliance on external tools introduces computational costs and potentially limits the model's ability to generalize beyond the tools it has been trained on. Nonetheless, the research holds promise for creating reliable AI scientific assistants and lays the groundwork for future advancements in this area. \n",
       "<br><br>"
      ],
      "text/plain": [
       "<IPython.core.display.Markdown object>"
      ]
     },
     "metadata": {},
     "output_type": "display_data"
    },
    {
     "data": {
      "text/markdown": [
       "**[Survey of User Interface Design and Interaction Techniques in Generative AI Applications](https://arxiv.org/pdf/2410.22370)**<br>This research article presents a comprehensive survey of user interface design and interaction techniques in generative AI applications. It aims to create a compendium of design patterns and interaction techniques for generative AI developers and designers, highlighting common trends and techniques. The survey is thorough and well-structured, providing a strong foundation for those new to generative AI design. However, the study focuses primarily on user-guided interactions and lacks depth in areas like accessibility for users with disabilities.  It also overlooks the potential for misuse and biases within these systems, highlighting the need for further research on ethical design considerations. Furthermore, while the survey acknowledges the rapidly evolving nature of generative AI, it could have benefited from more concrete recommendations on how to design for future user interfaces and the increasing complexity of these systems.  Despite these weaknesses, this research provides a valuable contribution to the field of human-AI interaction by offering a valuable resource for understanding current trends and challenges in generative AI design. \n",
       "<br><br>"
      ],
      "text/plain": [
       "<IPython.core.display.Markdown object>"
      ]
     },
     "metadata": {},
     "output_type": "display_data"
    },
    {
     "data": {
      "text/markdown": [
       "**[HelloMeme: Integrating Spatial Knitting Attentions to Embed High-Level and Fidelity-Rich Conditions in Diffusion Models](https://arxiv.org/pdf/2410.22901)**<br>This research paper presents HelloMeme, a method for integrating adapters into text-to-image foundation models to enable complex downstream tasks like meme video generation while preserving the generalization ability of the base model.  The core idea is to optimize the attention mechanism related to 2D feature maps using Spatial Knitting Attention (SKA) to enhance the adapter's performance. HelloMeme achieves significant results on meme video generation, demonstrating compatibility with Stable Diffusion 1.5 derivative models. The paper highlights the advantages of SKA, which maintains the spatial structure of 2D feature maps, leading to faster convergence and better performance compared to traditional attention methods.  However, the paper acknowledges some limitations, including flickering between video frames, diminished stylization characteristics when used with stylized SD1.5-derived models, and the need for more natural solutions for identity information leakage during training.  Overall, HelloMeme demonstrates promising potential for text-to-image post-training tasks while addressing some key limitations of existing methods. \n",
       "<br><br>"
      ],
      "text/plain": [
       "<IPython.core.display.Markdown object>"
      ]
     },
     "metadata": {},
     "output_type": "display_data"
    },
    {
     "data": {
      "text/markdown": [
       "**[In-Context LoRA for Diffusion Transformers](https://arxiv.org/pdf/2410.23775)**<br>This research article explores the potential of diffusion transformers (DiTs) for task-agnostic image generation, moving away from the token-based concatenation approach of previous work. It argues that DiTs inherently possess in-context learning abilities and proposes a simple yet effective pipeline for leveraging them. The pipeline involves concatenating images directly, using a single merged prompt for the entire image set, and applying task-specific LoRA tuning with small datasets. This approach achieves high-fidelity image sets that better adhere to prompts, requiring minimal data and computational resources. While the method is task-specific in terms of tuning data, it remains task-agnostic in architecture and pipeline, offering a powerful tool for the community. However, the reliance on SDEdit for image-conditional generation leads to inconsistencies in some cases, highlighting a potential area for improvement in future work. Overall, the research presents a promising approach to task-agnostic image generation, though further investigation and refinement are needed to fully realize its potential. \n",
       "<br><br>"
      ],
      "text/plain": [
       "<IPython.core.display.Markdown object>"
      ]
     },
     "metadata": {},
     "output_type": "display_data"
    },
    {
     "data": {
      "text/markdown": [
       "**[CityGaussianV2: Efficient and Geometrically Accurate Reconstruction for Large-Scale Scenes](https://arxiv.org/pdf/2411.00771)**<br>CityGaussianV2 is a novel approach for large-scale scene reconstruction using 2D Gaussian Splatting (2DGS) that addresses the limitations of existing methods in terms of geometric accuracy and efficiency. It incorporates a decomposed-gradient-based densification and depth regression technique to accelerate convergence and eliminate blurry artifacts. An elongation filter mitigates Gaussian count explosion during parallel training, and the optimized pipeline achieves significant reductions in training time and memory usage. The paper introduces a TnT-style evaluation protocol tailored for large, unbounded scenes, establishing a geometric benchmark for large-scale scene reconstruction. While the method exhibits promising performance in both geometric quality and efficiency, it is limited by the TSDF-based mesh extraction strategy and the rendering speed compared to CityGS. Future work should explore more advanced mesh extraction algorithms and integrate Level of Detail (LoD) techniques for further optimization. \n",
       "<br><br>"
      ],
      "text/plain": [
       "<IPython.core.display.Markdown object>"
      ]
     },
     "metadata": {},
     "output_type": "display_data"
    },
    {
     "data": {
      "text/markdown": [
       "**[SambaMixer: State of Health Prediction of Li-ion Batteries using Mamba State Space Models](https://arxiv.org/pdf/2411.00233)**<br>SambaMixer is a novel deep learning model based on Mamba state space models for predicting the state of health (SOH) of Li-ion batteries, specifically designed to handle long-range temporal dependencies in multi-variate time series data. This research highlights SambaMixer's strengths, such as its ability to outperform state-of-the-art models on the NASA battery discharge dataset by leveraging an anchor-based resampling method and sample time/cycle time difference positional encodings to improve accuracy and robustness. However, it also points to weaknesses, including the model's evaluation on only one dataset and the limited scope of battery chemistries and discharge profiles explored. Future work aims to address these limitations by evaluating the model on diverse datasets, chemistries, and discharge profiles, optimizing hyperparameters for better performance, and investigating alternative model architectures and state space models for further improvements. \n",
       "<br><br>"
      ],
      "text/plain": [
       "<IPython.core.display.Markdown object>"
      ]
     },
     "metadata": {},
     "output_type": "display_data"
    },
    {
     "data": {
      "text/markdown": [
       "**[M2rc-Eval: Massively Multilingual Repository-level Code Completion Evaluation](https://arxiv.org/pdf/2410.21157)**<br>This research paper introduces M2RC-EVAL, a massively multilingual repository-level code completion benchmark encompassing 18 programming languages. The benchmark offers two types of fine-grained annotations: bucket-level (based on abstract syntax tree depth) and semantic-level (based on code semantics), enabling detailed analysis of model performance.  The paper also introduces M2RC-INSTRUCT, a multilingual instruction corpus used to enhance repository-level code completion abilities of code LLMs.  Experiments demonstrate the effectiveness of both M2RC-EVAL and M2RC-INSTRUCT, highlighting the importance of cross-file context and multilingual fine-tuning.  While the benchmark is a valuable contribution, its limitations include the lack of execution-based evaluation and reliance on heuristics for quality control. \n",
       "<br><br>"
      ],
      "text/plain": [
       "<IPython.core.display.Markdown object>"
      ]
     },
     "metadata": {},
     "output_type": "display_data"
    },
    {
     "data": {
      "text/markdown": [
       "**[Face Anonymization Made Simple](https://arxiv.org/pdf/2411.00762)**<br>This research article presents a diffusion-based method for face anonymization, offering a simpler and more effective approach compared to existing techniques. The method utilizes only a reconstruction loss, eliminating the need for supplementary data like facial landmarks or masks, while still producing images with fine-grained details. The model surpasses state-of-the-art performance in identity anonymization, facial attribute preservation, and image quality. However, it exhibits limitations in re-identification rate, particularly for underrepresented groups, potentially due to data imbalance. Additionally, the model's native resolution of 512x512 hinders its ability to generate higher resolution images compared to some competing methods. Despite these weaknesses, the research offers a promising advancement in face anonymization, showcasing its potential for diverse applications beyond its primary function. \n",
       "<br><br>"
      ],
      "text/plain": [
       "<IPython.core.display.Markdown object>"
      ]
     },
     "metadata": {},
     "output_type": "display_data"
    },
    {
     "data": {
      "text/markdown": [
       "**[GPT or BERT: why not both?](https://arxiv.org/pdf/2410.24159)**<br>This research paper proposes a novel method for merging masked language modeling (MLM) and causal language modeling (CLM) into a single transformer architecture, resulting in a model called GPT-BERT. This hybrid approach aims to combine the strengths of both paradigms, leading to a more general language understanding. The authors demonstrate that GPT-BERT significantly outperforms both masked-only and causal-only models on the BabyLM Challenge 2024, achieving better results across multiple benchmarks. Additionally, GPT-BERT exhibits unexpected capabilities like in-context learning despite its relatively small size. However, the research highlights the need for further investigation, as the model's effectiveness in larger-scale settings and with larger datasets remains to be explored. \n",
       "<br><br>"
      ],
      "text/plain": [
       "<IPython.core.display.Markdown object>"
      ]
     },
     "metadata": {},
     "output_type": "display_data"
    },
    {
     "data": {
      "text/markdown": [
       "**[Zipfian Whitening](https://arxiv.org/pdf/2411.00680)**<br>This research paper proposes Zipfian whitening, a novel method for enhancing the symmetry of word embedding spaces by incorporating empirical word frequencies. The authors demonstrate that traditional whitening methods, which implicitly assume uniform word frequencies, are inefficient in NLP due to the highly non-uniform distribution of word frequencies, often following Zipf's law. Zipfian whitening, by weighting expected values with word frequencies, consistently outperforms baseline methods and achieves high correlation with downstream task performance. The authors explain the effectiveness of their method by framing it within the context of exponential families, highlighting how the Zipfian prior emphasizes low-frequency words, which are more informative, both in terms of vector norm and loss function. Notably, this work unifies several existing NLP methods, including word2vec, WhiteningBERT, and headless language models, under the umbrella of Zipfian priors, providing a theoretical foundation for their success. However, the research also acknowledges limitations, including potential numerical instability and the need for further exploration of higher-order moments and the relationship between whitening and generative models. Overall, the paper offers a valuable contribution to the field of word embedding, highlighting the importance of considering word frequencies and paving the way for improved NLP models. \n",
       "<br><br>"
      ],
      "text/plain": [
       "<IPython.core.display.Markdown object>"
      ]
     },
     "metadata": {},
     "output_type": "display_data"
    },
    {
     "data": {
      "text/markdown": [
       "**[GRS-QA -- Graph Reasoning-Structured Question Answering Dataset](https://arxiv.org/pdf/2411.00369)**<br>The GRS-QA dataset is a novel question-answering dataset that incorporates explicit reasoning structures in the form of graphs, representing the logical steps required to answer multi-hop questions. This unique feature distinguishes it from existing multi-hop QA datasets that lack such explicit structures. GRS-QA's strength lies in its ability to provide a transparent framework for analyzing how LLMs handle complex reasoning, allowing researchers to pinpoint where models struggle at a fine-grained level. However, the dataset suffers from an imbalanced distribution of graph types, with certain reasoning structures being overrepresented while more complex ones are underrepresented. Additionally, the dataset spans multiple domains, making it difficult to evaluate domain-specific reasoning abilities. Despite these limitations, GRS-QA holds promise as a valuable resource for evaluating and improving the reasoning capabilities of LLMs. \n",
       "<br><br>"
      ],
      "text/plain": [
       "<IPython.core.display.Markdown object>"
      ]
     },
     "metadata": {},
     "output_type": "display_data"
    },
    {
     "data": {
      "text/markdown": [
       "**[Physics in Next-token Prediction](https://arxiv.org/pdf/2411.00660)**<br>This research paper investigates the underlying physics of Next-token Prediction (NTP), the core mechanism driving the intelligence of autoregressive AI models. The authors propose the First Law of Information Capacity (IC-1), which states that the training process of these models is essentially a transfer of information from the dataset to the model, with the information capacity of the model increasing proportionally to the amount of information transferred.  Furthermore, they introduce Landauer's Principle into NTP and formulate the Second Law of Information Capacity (IC-2), which establishes the relationship between model training and energy consumption, quantifying the minimum energy required for information transfer. Several practical corollaries are derived from these laws, providing insights into estimating dataset entropy and quality, and matching model size with dataset size. The paper also validates the compatibility and complementarity of their findings with existing theories like the Scaling Law of Neural Language Models and Knowledge Capacity Scaling Laws. The strengths of the research lie in its innovative approach to linking the physics of information and energy to AI model training, offering a novel perspective on intelligence emergence. However, it's worth noting that some of the derived relationships are based on assumptions and simplifications, and require further empirical validation. \n",
       "<br><br>"
      ],
      "text/plain": [
       "<IPython.core.display.Markdown object>"
      ]
     },
     "metadata": {},
     "output_type": "display_data"
    },
    {
     "data": {
      "text/markdown": [
       "**[WikiNER-fr-gold: A Gold-Standard NER Corpus](https://arxiv.org/pdf/2411.00030)**<br>This research article presents WikiNER-fr-gold, a gold-standard Named Entity Recognition (NER) corpus in French. The corpus is built upon a 20% random sample of the original WikiNER-fr corpus, which was annotated semi-automatically using Wikipedia hyperlinks. The authors manually corrected and standardized the annotations, addressing inconsistencies and errors arising from the semi-supervised process. While the study highlights common errors and provides correction strategies, a limitation is the lack of comparison with other annotation schemes, making it challenging to assess the effectiveness of their approach. Future work aims to expand the revision to the entire WikiNER-fr corpus, explore automation possibilities, and integrate active learning techniques. This could lead to a more comprehensive and robust gold-standard NER resource for French. \n",
       "<br><br>"
      ],
      "text/plain": [
       "<IPython.core.display.Markdown object>"
      ]
     },
     "metadata": {},
     "output_type": "display_data"
    }
   ],
   "source": [
    "for paper in papers:\n",
    "    printmd(\"**[{}]({})**<br>{}<br><br>\".format(paper[\"title\"],\n",
    "                                                paper[\"url\"],\n",
    "                                                paper[\"summary\"]))"
   ]
  },
  {
   "cell_type": "code",
   "execution_count": null,
   "metadata": {},
   "outputs": [],
   "source": []
  }
 ],
 "metadata": {
  "kernelspec": {
   "display_name": "venv",
   "language": "python",
   "name": "python3"
  },
  "language_info": {
   "codemirror_mode": {
    "name": "ipython",
    "version": 3
   },
   "file_extension": ".py",
   "mimetype": "text/x-python",
   "name": "python",
   "nbconvert_exporter": "python",
   "pygments_lexer": "ipython3",
   "version": "3.12.7"
  }
 },
 "nbformat": 4,
 "nbformat_minor": 2
}
